{
 "cells": [
  {
   "cell_type": "markdown",
   "id": "a6bebe4a-b131-4591-b699-79162f50d6b2",
   "metadata": {},
   "source": [
    "# Azure VM Backup Restoration Notebook\r\n",
    "\r\n",
    "## Introduction\r\n",
    "Automate the restoration of an Azure virtual machine from a backup, offering an efficient solution for disaster recovery scenaris.\r\n"
   ]
  },
  {
   "cell_type": "markdown",
   "id": "9229e992-95a3-4f9d-b8ec-15b7e13d1ff8",
   "metadata": {},
   "source": [
    "## Prerequisites\r\n",
    "- Azure PowerShell module installed\r\n",
    "- Azure account credentials\r\n",
    "\r\n",
    "## Step 1: Install Azure PowerShell Modle\r\n",
    "\r\n",
    "Install the required modules for Azure PowerShell."
   ]
  },
  {
   "cell_type": "code",
   "execution_count": null,
   "id": "8ae1af9a-0b1a-4f5a-bfff-c1b0aa11926e",
   "metadata": {},
   "outputs": [],
   "source": [
    "Install-Module -Name Az -AllowClobber -Scope CurrentUser -Force\n",
    "Import-Module Az"
   ]
  },
  {
   "cell_type": "markdown",
   "id": "4cbc96bb-5cb3-4271-aa05-f6c018e9cd16",
   "metadata": {},
   "source": [
    "## Step 2: Authenticate to Azure\r",
    "\r\n",
    "Authenticate to Azure using your account credentials."
   ]
  },
  {
   "cell_type": "code",
   "execution_count": null,
   "id": "6cb4fc71-7e9b-41a1-a30f-12f1ef89ab26",
   "metadata": {},
   "outputs": [],
   "source": [
    "Connect-AzAccount"
   ]
  },
  {
   "cell_type": "markdown",
   "id": "179395d0-a85d-4568-b235-c67b6a74245c",
   "metadata": {},
   "source": [
    "## Step 3: Define Variables\r",
    "\r\n",
    "Set variables for resource and backup details."
   ]
  },
  {
   "cell_type": "code",
   "execution_count": null,
   "id": "b68a4087-790b-41c3-99a6-6270fb5e952d",
   "metadata": {},
   "outputs": [],
   "source": [
    "$resourceGroupName = \"YourResourceGroup\"\n",
    "$virtualMachineName = \"YourVM\"\n",
    "$backupVaultName = \"YourBackupVault\"\n",
    "$backupItemName = \"YourBackupItem\"\n",
    "$restorePoint = (Get-AzRecoveryServicesBackupRecoveryPoint -ResourceGroupName $resourceGroupName -VaultName $backupVaultName -ContainerName \"IaasVMContainer; $virtualMachineName\" -ItemName $backupItemName)[0]"
   ]
  },
  {
   "cell_type": "markdown",
   "id": "aea4844e-dfe6-42c9-bb66-972bf1f7ca6e",
   "metadata": {},
   "source": [
    "## Step 4: Restore the Virtual Machine\r",
    "\r\n",
    "Restore the virtual machine using the specified restore point."
   ]
  },
  {
   "cell_type": "code",
   "execution_count": null,
   "id": "0ea12efb-98fc-4634-bb7c-deb301bd757d",
   "metadata": {},
   "outputs": [],
   "source": [
    "$restoreConfig = @{\n",
    "    ResourceGroupName = $resourceGroupName\n",
    "    RecoveryPointId = $restorePoint.RecoveryPointId\n",
    "    VaultName = $backupVaultName\n",
    "    BackupItemName = $backupItemName\n",
    "    TargetResourceGroupName = $resourceGroupName\n",
    "    TargetVMName = $virtualMachineName\n",
    "}\n",
    "Restore-AzRecoveryServicesBackupItem @restoreConfig"
   ]
  }
 ],
 "metadata": {
  "kernelspec": {
   "display_name": ".NET (PowerShell)",
   "language": "PowerShell",
   "name": ".net-powershell"
  },
  "language_info": {
   "file_extension": ".ps1",
   "mimetype": "text/x-powershell",
   "name": "PowerShell",
   "pygments_lexer": "powershell",
   "version": "7.0"
  }
 },
 "nbformat": 4,
 "nbformat_minor": 5
}
