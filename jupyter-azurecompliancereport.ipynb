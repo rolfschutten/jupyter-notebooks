{
 "cells": [
  {
   "cell_type": "markdown",
   "id": "4d6c036c-528f-4212-b158-139b25866cde",
   "metadata": {},
   "source": [
    "# Azure Policy Compliance Reporting Notebook\r\n",
    "\r\n",
    "## Introduction\r\n",
    "This Jupyter Notebook demonstrates how to leverage PowerShell and Azure Policy APIs to generate insightful reports on the compliance state within the Azure environment. The focus is on monitoring and analyzing adherence to Azure policies for better data-driven decision-makig.\r\n"
   ]
  },
  {
   "cell_type": "markdown",
   "id": "f2aaf6db-e725-4219-bc97-29de6ca102cf",
   "metadata": {},
   "source": [
    "### Prerequisites\r\n",
    "- Azure PowerShell module installed\r\n",
    "- Azure account credentials"
   ]
  },
  {
   "cell_type": "markdown",
   "id": "95ea3008-c5ed-461d-881f-a27396332b9b",
   "metadata": {},
   "source": [
    "## Step 1: Install Azure PowerShell Module\n",
    "\r\n",
    "Install the required modules for Azure PowerShell."
   ]
  },
  {
   "cell_type": "code",
   "execution_count": null,
   "id": "8a538414-92b2-486e-9ac1-17d177d12842",
   "metadata": {},
   "outputs": [
    {
     "data": {
      "text/html": [
       "\r\n",
       "<div>\r\n",
       "    <div id='dotnet-interactive-this-cell-20832.Microsoft.DotNet.Interactive.Http.HttpPort' style='display: none'>\r\n",
       "        The below script needs to be able to find the current output cell; this is an easy method to get it.\r\n",
       "    </div>\r\n",
       "    <script type='text/javascript'>\r\n",
       "async function probeAddresses(probingAddresses) {\r\n",
       "    function timeout(ms, promise) {\r\n",
       "        return new Promise(function (resolve, reject) {\r\n",
       "            setTimeout(function () {\r\n",
       "                reject(new Error('timeout'))\r\n",
       "            }, ms)\r\n",
       "            promise.then(resolve, reject)\r\n",
       "        })\r\n",
       "    }\r\n",
       "\r\n",
       "    if (Array.isArray(probingAddresses)) {\r\n",
       "        for (let i = 0; i < probingAddresses.length; i++) {\r\n",
       "\r\n",
       "            let rootUrl = probingAddresses[i];\r\n",
       "\r\n",
       "            if (!rootUrl.endsWith('/')) {\r\n",
       "                rootUrl = `${rootUrl}/`;\r\n",
       "            }\r\n",
       "\r\n",
       "            try {\r\n",
       "                let response = await timeout(1000, fetch(`${rootUrl}discovery`, {\r\n",
       "                    method: 'POST',\r\n",
       "                    cache: 'no-cache',\r\n",
       "                    mode: 'cors',\r\n",
       "                    timeout: 1000,\r\n",
       "                    headers: {\r\n",
       "                        'Content-Type': 'text/plain'\r\n",
       "                    },\r\n",
       "                    body: probingAddresses[i]\r\n",
       "                }));\r\n",
       "\r\n",
       "                if (response.status == 200) {\r\n",
       "                    return rootUrl;\r\n",
       "                }\r\n",
       "            }\r\n",
       "            catch (e) { }\r\n",
       "        }\r\n",
       "    }\r\n",
       "}\r\n",
       "\r\n",
       "function loadDotnetInteractiveApi() {\r\n",
       "    probeAddresses([\"http://192.168.2.143:2048/\", \"http://127.0.0.1:2048/\"])\r\n",
       "        .then((root) => {\r\n",
       "        // use probing to find host url and api resources\r\n",
       "        // load interactive helpers and language services\r\n",
       "        let dotnetInteractiveRequire = require.config({\r\n",
       "        context: '20832.Microsoft.DotNet.Interactive.Http.HttpPort',\r\n",
       "                paths:\r\n",
       "            {\r\n",
       "                'dotnet-interactive': `${root}resources`\r\n",
       "                }\r\n",
       "        }) || require;\r\n",
       "\r\n",
       "            window.dotnetInteractiveRequire = dotnetInteractiveRequire;\r\n",
       "\r\n",
       "            window.configureRequireFromExtension = function(extensionName, extensionCacheBuster) {\r\n",
       "                let paths = {};\r\n",
       "                paths[extensionName] = `${root}extensions/${extensionName}/resources/`;\r\n",
       "                \r\n",
       "                let internalRequire = require.config({\r\n",
       "                    context: extensionCacheBuster,\r\n",
       "                    paths: paths,\r\n",
       "                    urlArgs: `cacheBuster=${extensionCacheBuster}`\r\n",
       "                    }) || require;\r\n",
       "\r\n",
       "                return internalRequire\r\n",
       "            };\r\n",
       "        \r\n",
       "            dotnetInteractiveRequire([\r\n",
       "                    'dotnet-interactive/dotnet-interactive'\r\n",
       "                ],\r\n",
       "                function (dotnet) {\r\n",
       "                    dotnet.init(window);\r\n",
       "                },\r\n",
       "                function (error) {\r\n",
       "                    console.log(error);\r\n",
       "                }\r\n",
       "            );\r\n",
       "        })\r\n",
       "        .catch(error => {console.log(error);});\r\n",
       "    }\r\n",
       "\r\n",
       "// ensure `require` is available globally\r\n",
       "if ((typeof(require) !==  typeof(Function)) || (typeof(require.config) !== typeof(Function))) {\r\n",
       "    let require_script = document.createElement('script');\r\n",
       "    require_script.setAttribute('src', 'https://cdnjs.cloudflare.com/ajax/libs/require.js/2.3.6/require.min.js');\r\n",
       "    require_script.setAttribute('type', 'text/javascript');\r\n",
       "    \r\n",
       "    \r\n",
       "    require_script.onload = function() {\r\n",
       "        loadDotnetInteractiveApi();\r\n",
       "    };\r\n",
       "\r\n",
       "    document.getElementsByTagName('head')[0].appendChild(require_script);\r\n",
       "}\r\n",
       "else {\r\n",
       "    loadDotnetInteractiveApi();\r\n",
       "}\r\n",
       "\r\n",
       "    </script>\r\n",
       "</div>"
      ]
     },
     "metadata": {},
     "output_type": "display_data"
    }
   ],
   "source": [
    "Install-Module -Name Az -AllowClobber -Scope CurrentUser -Force\n",
    "Import-Module Az"
   ]
  },
  {
   "cell_type": "markdown",
   "id": "5ed71824-2f8e-4c19-b501-ab55b5496b10",
   "metadata": {},
   "source": [
    "## Step 2: Authenticate to Azure\n",
    "\r\n",
    "Authenticate to Azure using your account credentials."
   ]
  },
  {
   "cell_type": "code",
   "execution_count": null,
   "id": "90696031-33d2-4db8-9024-6734bd03b4de",
   "metadata": {},
   "outputs": [],
   "source": [
    "Connect-AzAccount"
   ]
  },
  {
   "cell_type": "markdown",
   "id": "0f9bc1f3-e833-47d2-8e67-e4935f687b3b",
   "metadata": {},
   "source": [
    "## Step 3: Retrieve Azure Policy Compliance Data"
   ]
  },
  {
   "cell_type": "code",
   "execution_count": null,
   "id": "715d9d4a-a95a-4068-b73e-4e6cd023a6be",
   "metadata": {},
   "outputs": [],
   "source": [
    "# Define variables\n",
    "$managementGroupName = \"YourManagementGroup\"  # Replace with your management group ID or use subscription ID\n",
    "$policyStates = Get-AzPolicyState -ManagementGroupId $managementGroupName\n",
    "\n",
    "# Filter for compliant and non-compliant resources\n",
    "$compliantResources = $policyStates | Where-Object { $_.ComplianceState -eq 'Compliant' }\n",
    "$nonCompliantResources = $policyStates | Where-Object { $_.ComplianceState -eq 'NonCompliant' }\n",
    "\n",
    "# Display the compliance data\n",
    "$compliantResources, $nonCompliantResources"
   ]
  },
  {
   "cell_type": "markdown",
   "id": "d55982e8-791d-45e8-a1cb-59af992474b6",
   "metadata": {},
   "source": [
    "## Step 4: Data Analysis and Visualization"
   ]
  },
  {
   "cell_type": "code",
   "execution_count": null,
   "id": "da651093-1071-4ed2-8ae3-89664b2949b9",
   "metadata": {},
   "outputs": [],
   "source": [
    "# Count compliant and non-compliant resources\n",
    "$compliantCount = $compliantResources.Count\n",
    "$nonCompliantCount = $nonCompliantResources.Count\n",
    "\n",
    "# Visualize the data using a simple bar chart\n",
    "$chartData = @{\n",
    "    'Compliant' = $compliantCount\n",
    "    'Non-Compliant' = $nonCompliantCount\n",
    "}\n",
    "\n",
    "# Display a bar chart\n",
    "$chartData | Out-Chart -Title 'Azure Policy Compliance Report' -ChartType Bar -Property 'Compliance'"
   ]
  },
  {
   "cell_type": "markdown",
   "id": "b480e73a-4ef3-4048-ac38-52465493bc62",
   "metadata": {},
   "source": [
    "## Conclusion and Recommendations\n",
    "Summarize the compliance report findings and provide recommendations based on the analysis.\n"
   ]
  }
 ],
 "metadata": {
  "kernelspec": {
   "display_name": ".NET (PowerShell)",
   "language": "PowerShell",
   "name": ".net-powershell"
  },
  "language_info": {
   "file_extension": ".ps1",
   "mimetype": "text/x-powershell",
   "name": "PowerShell",
   "pygments_lexer": "powershell",
   "version": "7.0"
  }
 },
 "nbformat": 4,
 "nbformat_minor": 5
}
